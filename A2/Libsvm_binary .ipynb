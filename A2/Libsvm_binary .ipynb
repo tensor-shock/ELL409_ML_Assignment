{
 "cells": [
  {
   "cell_type": "code",
   "execution_count": 1,
   "id": "2eaa2c0c",
   "metadata": {},
   "outputs": [],
   "source": [
    "import numpy as np\n",
    "from libsvm.svm import *\n",
    "from libsvm.svmutil import *\n",
    "import matplotlib.pyplot as plt\n",
    "import seaborn as sns\n",
    "import time"
   ]
  },
  {
   "cell_type": "code",
   "execution_count": 115,
   "id": "03838163",
   "metadata": {},
   "outputs": [],
   "source": [
    "#file path\n",
    "file='2019MT10718.csv'"
   ]
  },
  {
   "cell_type": "code",
   "execution_count": 177,
   "id": "c3123060",
   "metadata": {},
   "outputs": [],
   "source": [
    "#data taken from file\n",
    "data=np.genfromtxt(file,delimiter=',')\n",
    "req_data=[x for x in data if x[25] in [2,9]]\n",
    "data=np.array(req_data)"
   ]
  },
  {
   "cell_type": "code",
   "execution_count": 178,
   "id": "11bebb3d",
   "metadata": {},
   "outputs": [
    {
     "data": {
      "text/plain": [
       "(572, 26)"
      ]
     },
     "execution_count": 178,
     "metadata": {},
     "output_type": "execute_result"
    }
   ],
   "source": [
    "data.shape"
   ]
  },
  {
   "cell_type": "code",
   "execution_count": 179,
   "id": "f0840ce5",
   "metadata": {},
   "outputs": [
    {
     "data": {
      "text/plain": [
       "array([[ 0.68215146, -3.75910689,  0.71575991,  2.65501045,  2.59928115,\n",
       "         0.40998208,  2.52861475,  0.79589945,  0.71030341,  1.60383507,\n",
       "        -1.28599391,  1.19039566, -0.64298009, -0.38627133,  0.18087569,\n",
       "        -0.58141077, -0.79894262, -0.40541746,  1.26233845, -1.46279854,\n",
       "         0.92572399, -0.15382033, -0.04506457, -0.43566477, -2.16191859,\n",
       "         2.        ],\n",
       "       [ 0.12771965, -3.95531803, -1.30546097, -0.32481492,  1.3886469 ,\n",
       "         1.82980973, -1.31122053, -0.05619508, -1.07378722, -0.15789032,\n",
       "        -1.00394121,  0.5813574 , -0.5017444 , -2.32838131, -0.90997244,\n",
       "        -0.34603932,  0.99993276, -0.06352084,  0.27549702, -1.17873888,\n",
       "         0.55467943,  0.35753273, -0.5080592 ,  0.15252672, -0.21159436,\n",
       "         2.        ],\n",
       "       [-1.71836363,  1.5201162 , -1.43703855, -0.7949268 ,  0.89454232,\n",
       "        -1.99281177, -0.0918925 , -1.63698497,  1.1195401 ,  2.2860774 ,\n",
       "        -0.77765045,  0.55414148,  0.08182983,  0.16079859,  0.69844511,\n",
       "        -0.4670555 , -0.68746171,  0.40059468, -0.5061358 , -0.61834228,\n",
       "         1.62323585,  0.59491975,  0.67974213,  0.01229844,  0.96716873,\n",
       "         9.        ],\n",
       "       [-2.06026618,  1.95266192,  0.35286901, -0.1634083 ,  0.22548088,\n",
       "        -0.73403596,  0.5659536 , -0.83076333, -0.66616796,  0.16713643,\n",
       "        -1.11495982,  0.12885161, -1.44560121, -0.88701663,  0.42242594,\n",
       "        -0.44689375, -0.83577946,  0.21634085,  0.05232232,  1.35736185,\n",
       "         0.50308454, -0.36916256,  0.10663957,  0.25836133, -0.08972783,\n",
       "         9.        ],\n",
       "       [-0.38455919,  4.05363211,  1.18717119, -1.27618546, -0.33669607,\n",
       "         0.79434515,  0.17264916, -0.40021119, -0.4373451 , -1.03565255,\n",
       "         0.38040137,  0.343737  , -1.41138965, -0.55746285, -1.24204789,\n",
       "        -0.08174185,  0.99137559, -0.42535134,  0.29295876, -0.70568074,\n",
       "         0.40566774,  0.55355692, -0.25956216, -0.1083456 , -0.89817518,\n",
       "         9.        ]])"
      ]
     },
     "execution_count": 179,
     "metadata": {},
     "output_type": "execute_result"
    }
   ],
   "source": [
    "data[:5]"
   ]
  },
  {
   "cell_type": "code",
   "execution_count": 190,
   "id": "9e5a6ea4",
   "metadata": {},
   "outputs": [],
   "source": [
    "#xdata=data[:,:25]\n",
    "tdata=data[:,25:].flatten()\n",
    "xdata=data[:,:10]\n",
    "\n",
    "#tdata=tdata.reshape(tdata.shape[0],1)"
   ]
  },
  {
   "cell_type": "code",
   "execution_count": 191,
   "id": "041e4794",
   "metadata": {},
   "outputs": [
    {
     "data": {
      "text/plain": [
       "(572,)"
      ]
     },
     "execution_count": 191,
     "metadata": {},
     "output_type": "execute_result"
    }
   ],
   "source": [
    "tdata.shape"
   ]
  },
  {
   "cell_type": "code",
   "execution_count": 192,
   "id": "69531bbf",
   "metadata": {},
   "outputs": [
    {
     "data": {
      "text/plain": [
       "dtype('float64')"
      ]
     },
     "execution_count": 192,
     "metadata": {},
     "output_type": "execute_result"
    }
   ],
   "source": [
    "tdata.dtype"
   ]
  },
  {
   "cell_type": "code",
   "execution_count": 193,
   "id": "23bed1f8",
   "metadata": {},
   "outputs": [],
   "source": [
    "model = svm_train(tdata, xdata)"
   ]
  },
  {
   "cell_type": "code",
   "execution_count": 194,
   "id": "61e327d1",
   "metadata": {},
   "outputs": [
    {
     "name": "stdout",
     "output_type": "stream",
     "text": [
      "Accuracy = 100% (572/572) (classification)\n",
      "--- 0.021034955978393555 seconds ---\n"
     ]
    }
   ],
   "source": [
    "start_time = time.time()\n",
    "p_labs, p_acc, p_vals = svm_predict(tdata, xdata, model )\n",
    "print(\"--- %s seconds ---\" % (time.time() - start_time))"
   ]
  },
  {
   "cell_type": "code",
   "execution_count": 195,
   "id": "130f345a",
   "metadata": {},
   "outputs": [
    {
     "name": "stdout",
     "output_type": "stream",
     "text": [
      "2\n",
      "Accuracy = 98.6014% (282/286) (classification)\n",
      "Accuracy = 98.951% (283/286) (classification)\n",
      "98.77622377622377\n",
      "3\n",
      "Accuracy = 98.4211% (187/190) (classification)\n",
      "Accuracy = 98.4211% (187/190) (classification)\n",
      "Accuracy = 98.4211% (187/190) (classification)\n",
      "98.42105263157895\n",
      "4\n",
      "Accuracy = 98.6014% (141/143) (classification)\n",
      "Accuracy = 97.9021% (140/143) (classification)\n",
      "Accuracy = 97.9021% (140/143) (classification)\n",
      "Accuracy = 97.9021% (140/143) (classification)\n",
      "98.07692307692308\n",
      "5\n",
      "Accuracy = 99.1228% (113/114) (classification)\n",
      "Accuracy = 99.1228% (113/114) (classification)\n",
      "Accuracy = 99.1228% (113/114) (classification)\n",
      "Accuracy = 98.2456% (112/114) (classification)\n",
      "Accuracy = 98.2456% (112/114) (classification)\n",
      "98.7719298245614\n",
      "6\n",
      "Accuracy = 98.9474% (94/95) (classification)\n",
      "Accuracy = 98.9474% (94/95) (classification)\n",
      "Accuracy = 98.9474% (94/95) (classification)\n",
      "Accuracy = 98.9474% (94/95) (classification)\n",
      "Accuracy = 98.9474% (94/95) (classification)\n",
      "Accuracy = 97.8947% (93/95) (classification)\n",
      "98.77192982456141\n",
      "7\n",
      "Accuracy = 98.7654% (80/81) (classification)\n",
      "Accuracy = 98.7654% (80/81) (classification)\n",
      "Accuracy = 98.7654% (80/81) (classification)\n",
      "Accuracy = 98.7654% (80/81) (classification)\n",
      "Accuracy = 97.5309% (79/81) (classification)\n",
      "Accuracy = 100% (81/81) (classification)\n",
      "Accuracy = 100% (81/81) (classification)\n",
      "98.94179894179895\n",
      "8\n",
      "Accuracy = 98.5915% (70/71) (classification)\n",
      "Accuracy = 98.5915% (70/71) (classification)\n",
      "Accuracy = 98.5915% (70/71) (classification)\n",
      "Accuracy = 98.5915% (70/71) (classification)\n",
      "Accuracy = 100% (71/71) (classification)\n",
      "Accuracy = 100% (71/71) (classification)\n",
      "Accuracy = 100% (71/71) (classification)\n",
      "Accuracy = 98.5915% (70/71) (classification)\n",
      "99.11971830985917\n",
      "9\n",
      "Accuracy = 100% (63/63) (classification)\n",
      "Accuracy = 98.4127% (62/63) (classification)\n",
      "Accuracy = 98.4127% (62/63) (classification)\n",
      "Accuracy = 98.4127% (62/63) (classification)\n",
      "Accuracy = 100% (63/63) (classification)\n",
      "Accuracy = 100% (63/63) (classification)\n",
      "Accuracy = 100% (63/63) (classification)\n",
      "Accuracy = 98.4127% (62/63) (classification)\n",
      "Accuracy = 98.4127% (62/63) (classification)\n",
      "99.11816578483246\n",
      "10\n",
      "Accuracy = 100% (57/57) (classification)\n",
      "Accuracy = 98.2456% (56/57) (classification)\n",
      "Accuracy = 98.2456% (56/57) (classification)\n",
      "Accuracy = 98.2456% (56/57) (classification)\n",
      "Accuracy = 100% (57/57) (classification)\n",
      "Accuracy = 100% (57/57) (classification)\n",
      "Accuracy = 100% (57/57) (classification)\n",
      "Accuracy = 98.2456% (56/57) (classification)\n",
      "Accuracy = 98.2456% (56/57) (classification)\n",
      "Accuracy = 96.4912% (55/57) (classification)\n",
      "98.7719298245614\n",
      "11\n",
      "Accuracy = 100% (52/52) (classification)\n",
      "Accuracy = 100% (52/52) (classification)\n",
      "Accuracy = 98.0769% (51/52) (classification)\n",
      "Accuracy = 100% (52/52) (classification)\n",
      "Accuracy = 100% (52/52) (classification)\n",
      "Accuracy = 100% (52/52) (classification)\n",
      "Accuracy = 100% (52/52) (classification)\n",
      "Accuracy = 98.0769% (51/52) (classification)\n",
      "Accuracy = 98.0769% (51/52) (classification)\n",
      "Accuracy = 98.0769% (51/52) (classification)\n",
      "Accuracy = 96.1538% (50/52) (classification)\n",
      "98.95104895104896\n",
      "12\n",
      "Accuracy = 100% (47/47) (classification)\n",
      "Accuracy = 100% (47/47) (classification)\n",
      "Accuracy = 97.8723% (46/47) (classification)\n",
      "Accuracy = 100% (47/47) (classification)\n",
      "Accuracy = 100% (47/47) (classification)\n",
      "Accuracy = 100% (47/47) (classification)\n",
      "Accuracy = 100% (47/47) (classification)\n",
      "Accuracy = 97.8723% (46/47) (classification)\n",
      "Accuracy = 97.8723% (46/47) (classification)\n",
      "Accuracy = 95.7447% (45/47) (classification)\n",
      "Accuracy = 97.8723% (46/47) (classification)\n",
      "Accuracy = 100% (47/47) (classification)\n",
      "98.93617021276596\n",
      "13\n",
      "Accuracy = 100% (44/44) (classification)\n",
      "Accuracy = 100% (44/44) (classification)\n",
      "Accuracy = 97.7273% (43/44) (classification)\n",
      "Accuracy = 100% (44/44) (classification)\n",
      "Accuracy = 100% (44/44) (classification)\n",
      "Accuracy = 100% (44/44) (classification)\n",
      "Accuracy = 100% (44/44) (classification)\n",
      "Accuracy = 97.7273% (43/44) (classification)\n",
      "Accuracy = 95.4545% (42/44) (classification)\n",
      "Accuracy = 97.7273% (43/44) (classification)\n",
      "Accuracy = 100% (44/44) (classification)\n",
      "Accuracy = 100% (44/44) (classification)\n",
      "Accuracy = 100% (44/44) (classification)\n",
      "99.12587412587413\n",
      "14\n",
      "Accuracy = 100% (40/40) (classification)\n",
      "Accuracy = 100% (40/40) (classification)\n",
      "Accuracy = 97.5% (39/40) (classification)\n",
      "Accuracy = 100% (40/40) (classification)\n",
      "Accuracy = 100% (40/40) (classification)\n",
      "Accuracy = 100% (40/40) (classification)\n",
      "Accuracy = 100% (40/40) (classification)\n",
      "Accuracy = 97.5% (39/40) (classification)\n",
      "Accuracy = 97.5% (39/40) (classification)\n",
      "Accuracy = 100% (40/40) (classification)\n",
      "Accuracy = 100% (40/40) (classification)\n",
      "Accuracy = 100% (40/40) (classification)\n",
      "Accuracy = 100% (40/40) (classification)\n",
      "Accuracy = 100% (40/40) (classification)\n",
      "99.46428571428571\n",
      "15\n",
      "Accuracy = 100% (38/38) (classification)\n",
      "Accuracy = 100% (38/38) (classification)\n",
      "Accuracy = 97.3684% (37/38) (classification)\n",
      "Accuracy = 100% (38/38) (classification)\n",
      "Accuracy = 100% (38/38) (classification)\n",
      "Accuracy = 100% (38/38) (classification)\n",
      "Accuracy = 97.3684% (37/38) (classification)\n",
      "Accuracy = 97.3684% (37/38) (classification)\n",
      "Accuracy = 97.3684% (37/38) (classification)\n",
      "Accuracy = 100% (38/38) (classification)\n",
      "Accuracy = 100% (38/38) (classification)\n",
      "Accuracy = 100% (38/38) (classification)\n",
      "Accuracy = 100% (38/38) (classification)\n",
      "Accuracy = 100% (38/38) (classification)\n",
      "Accuracy = 100% (38/38) (classification)\n",
      "99.29824561403508\n",
      "16\n",
      "Accuracy = 100% (35/35) (classification)\n",
      "Accuracy = 100% (35/35) (classification)\n",
      "Accuracy = 97.1429% (34/35) (classification)\n",
      "Accuracy = 100% (35/35) (classification)\n",
      "Accuracy = 100% (35/35) (classification)\n",
      "Accuracy = 100% (35/35) (classification)\n",
      "Accuracy = 97.1429% (34/35) (classification)\n",
      "Accuracy = 97.1429% (34/35) (classification)\n",
      "Accuracy = 100% (35/35) (classification)\n",
      "Accuracy = 100% (35/35) (classification)\n",
      "Accuracy = 100% (35/35) (classification)\n",
      "Accuracy = 100% (35/35) (classification)\n",
      "Accuracy = 100% (35/35) (classification)\n",
      "Accuracy = 100% (35/35) (classification)\n",
      "Accuracy = 100% (35/35) (classification)\n",
      "Accuracy = 100% (35/35) (classification)\n",
      "99.46428571428571\n",
      "17\n",
      "Accuracy = 100% (33/33) (classification)\n",
      "Accuracy = 100% (33/33) (classification)\n",
      "Accuracy = 96.9697% (32/33) (classification)\n",
      "Accuracy = 100% (33/33) (classification)\n",
      "Accuracy = 100% (33/33) (classification)\n",
      "Accuracy = 100% (33/33) (classification)\n",
      "Accuracy = 96.9697% (32/33) (classification)\n",
      "Accuracy = 96.9697% (32/33) (classification)\n",
      "Accuracy = 100% (33/33) (classification)\n",
      "Accuracy = 100% (33/33) (classification)\n",
      "Accuracy = 100% (33/33) (classification)\n",
      "Accuracy = 100% (33/33) (classification)\n",
      "Accuracy = 100% (33/33) (classification)\n",
      "Accuracy = 100% (33/33) (classification)\n",
      "Accuracy = 100% (33/33) (classification)\n",
      "Accuracy = 100% (33/33) (classification)\n",
      "Accuracy = 100% (33/33) (classification)\n",
      "99.46524064171123\n",
      "18\n",
      "Accuracy = 100% (31/31) (classification)\n",
      "Accuracy = 100% (31/31) (classification)\n",
      "Accuracy = 96.7742% (30/31) (classification)\n",
      "Accuracy = 100% (31/31) (classification)\n",
      "Accuracy = 100% (31/31) (classification)\n",
      "Accuracy = 100% (31/31) (classification)\n",
      "Accuracy = 96.7742% (30/31) (classification)\n",
      "Accuracy = 100% (31/31) (classification)\n",
      "Accuracy = 100% (31/31) (classification)\n",
      "Accuracy = 100% (31/31) (classification)\n",
      "Accuracy = 100% (31/31) (classification)\n",
      "Accuracy = 100% (31/31) (classification)\n",
      "Accuracy = 100% (31/31) (classification)\n",
      "Accuracy = 100% (31/31) (classification)\n",
      "Accuracy = 100% (31/31) (classification)\n",
      "Accuracy = 100% (31/31) (classification)\n",
      "Accuracy = 100% (31/31) (classification)\n",
      "Accuracy = 96.7742% (30/31) (classification)\n",
      "99.46236559139784\n",
      "19\n",
      "Accuracy = 100% (30/30) (classification)\n",
      "Accuracy = 100% (30/30) (classification)\n",
      "Accuracy = 96.6667% (29/30) (classification)\n",
      "Accuracy = 100% (30/30) (classification)\n",
      "Accuracy = 100% (30/30) (classification)\n",
      "Accuracy = 96.6667% (29/30) (classification)\n",
      "Accuracy = 96.6667% (29/30) (classification)\n",
      "Accuracy = 100% (30/30) (classification)\n",
      "Accuracy = 100% (30/30) (classification)\n",
      "Accuracy = 100% (30/30) (classification)\n",
      "Accuracy = 100% (30/30) (classification)\n",
      "Accuracy = 100% (30/30) (classification)\n",
      "Accuracy = 100% (30/30) (classification)\n",
      "Accuracy = 100% (30/30) (classification)\n",
      "Accuracy = 100% (30/30) (classification)\n"
     ]
    },
    {
     "name": "stdout",
     "output_type": "stream",
     "text": [
      "Accuracy = 100% (30/30) (classification)\n",
      "Accuracy = 96.6667% (29/30) (classification)\n",
      "Accuracy = 93.3333% (28/30) (classification)\n",
      "Accuracy = 96.6667% (29/30) (classification)\n",
      "98.77192982456141\n",
      "20\n",
      "Accuracy = 100% (28/28) (classification)\n",
      "Accuracy = 100% (28/28) (classification)\n",
      "Accuracy = 96.4286% (27/28) (classification)\n",
      "Accuracy = 100% (28/28) (classification)\n",
      "Accuracy = 100% (28/28) (classification)\n",
      "Accuracy = 96.4286% (27/28) (classification)\n",
      "Accuracy = 96.4286% (27/28) (classification)\n",
      "Accuracy = 100% (28/28) (classification)\n",
      "Accuracy = 100% (28/28) (classification)\n",
      "Accuracy = 100% (28/28) (classification)\n",
      "Accuracy = 100% (28/28) (classification)\n",
      "Accuracy = 100% (28/28) (classification)\n",
      "Accuracy = 100% (28/28) (classification)\n",
      "Accuracy = 100% (28/28) (classification)\n",
      "Accuracy = 100% (28/28) (classification)\n",
      "Accuracy = 100% (28/28) (classification)\n",
      "Accuracy = 92.8571% (26/28) (classification)\n",
      "Accuracy = 100% (28/28) (classification)\n",
      "Accuracy = 96.4286% (27/28) (classification)\n",
      "Accuracy = 100% (28/28) (classification)\n",
      "98.92857142857142\n"
     ]
    },
    {
     "name": "stderr",
     "output_type": "stream",
     "text": [
      "/Users/rajarshidas/opt/anaconda3/lib/python3.8/site-packages/seaborn/_decorators.py:36: FutureWarning: Pass the following variables as keyword args: x, y. From version 0.12, the only valid positional argument will be `data`, and passing other arguments without an explicit keyword will result in an error or misinterpretation.\n",
      "  warnings.warn(\n"
     ]
    },
    {
     "data": {
      "image/png": "[encoded data removed]",
      "text/plain": [
       "<Figure size 1008x432 with 1 Axes>"
      ]
     },
     "metadata": {
      "needs_background": "light"
     },
     "output_type": "display_data"
    }
   ],
   "source": [
    "err=[]\n",
    "min_lim=2\n",
    "max_lim=21\n",
    "for k in range(min_lim,max_lim):\n",
    "    #k batch cross val (k taken to be 6 gives good result)\n",
    "    data_points_total=xdata.shape[0]\n",
    "    val_set_size=int(data_points_total/k)\n",
    "    train_set_size=data_points_total-val_set_size\n",
    "    accuracy=[]\n",
    "    print(k)\n",
    "    for val_step in range(k):\n",
    "        test_begin_index=k*val_step\n",
    "        test_end_index=min(test_begin_index+val_set_size,data_points_total)\n",
    "        xtrain=np.append(xdata[:test_begin_index][:],xdata[test_end_index:][:])\n",
    "        ttrain=np.append(tdata[:test_begin_index],tdata[test_end_index:])\n",
    "        r=ttrain.shape[0]\n",
    "        c=int(xtrain.shape[0]/r)\n",
    "        xtrain=xtrain.reshape(r,c)\n",
    "        xvalid=xdata[test_begin_index:test_end_index]\n",
    "        tvalid=tdata[test_begin_index:test_end_index]\n",
    "        #print(xvalid.shape,xtrain.shape)\n",
    "        #print(tvalid)\n",
    "        model = svm_train(ttrain, xtrain)\n",
    "        p_labs, p_acc, p_vals = svm_predict(tvalid, xvalid, model )\n",
    "        accuracy.append(p_acc[0])\n",
    "    print(np.mean(accuracy))\n",
    "    err.append(np.mean(accuracy))\n",
    "#best fit poly after cross_validation\n",
    "xp=[i for i in range(min_lim,max_lim)]\n",
    "plt.figure(figsize=(14,6))\n",
    "sns.lineplot(xp,err,marker='o',label='accuracy')\n",
    "plt.title('accuracy vs number of cross-validation batches')\n",
    "plt.grid(True)\n",
    "plt.show()"
   ]
  },
  {
   "cell_type": "code",
   "execution_count": 196,
   "id": "550033c0",
   "metadata": {},
   "outputs": [
    {
     "name": "stdout",
     "output_type": "stream",
     "text": [
      "Accuracy = 98.9474% (94/95) (classification)\n",
      "--- 0.0015439987182617188 seconds ---\n",
      "Accuracy = 98.9474% (94/95) (classification)\n",
      "--- 0.001499176025390625 seconds ---\n",
      "Accuracy = 98.9474% (94/95) (classification)\n",
      "--- 0.0013170242309570312 seconds ---\n",
      "Accuracy = 98.9474% (94/95) (classification)\n",
      "--- 0.0012848377227783203 seconds ---\n",
      "Accuracy = 98.9474% (94/95) (classification)\n",
      "--- 0.0013420581817626953 seconds ---\n",
      "Accuracy = 97.8947% (93/95) (classification)\n",
      "--- 0.0012769699096679688 seconds ---\n",
      "Number of batches 6\n",
      "Number of features are 10\n",
      "final accuracy 98.77192982456141\n"
     ]
    }
   ],
   "source": [
    "#6 batch cross val \n",
    "data_points_total=xdata.shape[0]\n",
    "k=6\n",
    "val_set_size=int(data_points_total/k)\n",
    "train_set_size=data_points_total-val_set_size\n",
    "accuracy=[]\n",
    "for val_step in range(k):\n",
    "    test_begin_index=k*val_step\n",
    "    test_end_index=min(test_begin_index+val_set_size,data_points_total)\n",
    "    xtrain=np.append(xdata[:test_begin_index][:],xdata[test_end_index:][:])\n",
    "    ttrain=np.append(tdata[:test_begin_index],tdata[test_end_index:])\n",
    "    r=ttrain.shape[0]\n",
    "    c=int(xtrain.shape[0]/r)\n",
    "    xtrain=xtrain.reshape(r,c)\n",
    "    xvalid=xdata[test_begin_index:test_end_index]\n",
    "    tvalid=tdata[test_begin_index:test_end_index]\n",
    "    #print(xvalid.shape,xtrain.shape)\n",
    "    #print(tvalid)\n",
    "    model = svm_train(ttrain, xtrain )\n",
    "    start_time = time.time()\n",
    "    p_labs, p_acc, p_vals = svm_predict(tvalid, xvalid, model )\n",
    "    print(\"--- %s seconds ---\" % (time.time() - start_time))\n",
    "    accuracy.append(p_acc[0])\n",
    "\n",
    "print('Number of batches',k)\n",
    "print('Number of features are', 10)\n",
    "#print('gamma value is',2)\n",
    "print('final accuracy',np.mean(accuracy))"
   ]
  },
  {
   "cell_type": "code",
   "execution_count": null,
   "id": "fe63cf49",
   "metadata": {},
   "outputs": [],
   "source": []
  },
  {
   "cell_type": "code",
   "execution_count": null,
   "id": "ab10969e",
   "metadata": {},
   "outputs": [],
   "source": []
  }
 ],
 "metadata": {
  "kernelspec": {
   "display_name": "Python 3",
   "language": "python",
   "name": "python3"
  },
  "language_info": {
   "codemirror_mode": {
    "name": "ipython",
    "version": 3
   },
   "file_extension": ".py",
   "mimetype": "text/x-python",
   "name": "python",
   "nbconvert_exporter": "python",
   "pygments_lexer": "ipython3",
   "version": "3.8.8"
  }
 },
 "nbformat": 4,
 "nbformat_minor": 5
}
