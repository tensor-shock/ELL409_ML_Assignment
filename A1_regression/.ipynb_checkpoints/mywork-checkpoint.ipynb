{
 "cells": [
  {
   "cell_type": "code",
   "execution_count": 72,
   "id": "e0e20cf7",
   "metadata": {},
   "outputs": [],
   "source": [
    "import numpy as np\n",
    "xdata=np.genfromtxt('gaussian.csv',usecols=(0),delimiter=',')\n",
    "tdata=np.genfromtxt('gaussian.csv',usecols=(1),delimiter=',')\n",
    "\n",
    "def square_error(m,t_i,w,x_i):\n",
    "    phi=make_phi(m,x_i)\n",
    "    w_t=w[:,None].transpose()\n",
    "    wphi=np.matmul(w_t,phi[:,None])\n",
    "    f=np.sum(wphi)\n",
    "    diff=t_i-f\n",
    "    return diff**2\n",
    "\n",
    "def sum_square_error(m,n,t,w,x):\n",
    "    total=0\n",
    "    for i in range(n):\n",
    "        total+=square_error(m,t[i],w,x[i])\n",
    "    return total/2\n",
    "\n",
    "def rms_error(sse,n):\n",
    "    return (sse*2/n)**0.5\n",
    "\n",
    "def make_phi(m,x_i):\n",
    "    phi=np.zeros(m)\n",
    "    for i in range(m):\n",
    "        phi[i]=x_i**i\n",
    "    return phi\n",
    "\n",
    "def des_mat(m,n,x):\n",
    "    des= np.empty((0,m))\n",
    "    \n",
    "    for i in range(n):\n",
    "        phi=make_phi(m,x[i])\n",
    "        des=np.append(des,[phi],axis=0)\n",
    "    return des\n",
    "\n",
    "def reg_sum_square_error(lamb,m,n,t,w,x):\n",
    "    sse=sum_square_error(m,n,t,w,x)\n",
    "    w_t=w[:,None].transpose()\n",
    "    rege=np.sum((lamb/2)*np.matmul(w_t,w[:,None]))\n",
    "    return rege+sse\n",
    "\n",
    "m=3\n",
    "n=4\n",
    "lamb=0\n",
    "\n",
    "def least_square_regression_pinv(x,t,m,n):\n",
    "    x=xdata[:n]\n",
    "    t=tdata[:n]\n",
    "    des=des_mat(m,n,x)\n",
    "    moopeninv=np.linalg.pinv(des)\n",
    "    wml=np.matmul(moopeninv,t)\n",
    "    res=sum_square_error(m,n,t,wml,x)\n",
    "    rmsres=rms_error(res,n)\n",
    "    return wml,rmsres\n",
    "\n",
    "def reg_least_square_regression_pinv(xdata,tdata,m,n,lamb):\n",
    "    x=xdata[:n]\n",
    "    t=tdata[:n]\n",
    "    des=des_mat(m,n,x)\n",
    "    #pinv\n",
    "    '''\n",
    "    pinv=np.matmul(des.transpose(),des)\n",
    "    a=np.identity(m)\n",
    "    a=a*lamb\n",
    "    pinv=np.add(pinv,a)\n",
    "    pinv=np.linalg.inv(pinv)\n",
    "    pinv=np.matmul(pinv,des.transpose())\n",
    "    '''\n",
    "    pinv = np.matmul(np.linalg.pinv(lamb*np.identity(m)+np.matmul(np.transpose(des),des)),np.transpose(des))\n",
    "    #print('reg',pinv)\n",
    "    wmlreg=np.matmul(pinv,t)\n",
    "    res=sum_square_error(m,n,t,wmlreg,x)\n",
    "    resreg=reg_sum_square_error(lamb,m,n,t,wmlreg,x)\n",
    "    rmsres=rms_error(res,n)\n",
    "    rmsresreg=rms_error(resreg,n)\n",
    "    return wmlreg,rmsresreg,rmsres\n"
   ]
  },
  {
   "cell_type": "code",
   "execution_count": 73,
   "id": "eb9bf34e",
   "metadata": {},
   "outputs": [
    {
     "data": {
      "text/plain": [
       "(array([7.46893895, 1.44722093]), 0.6309357646956676)"
      ]
     },
     "execution_count": 73,
     "metadata": {},
     "output_type": "execute_result"
    }
   ],
   "source": [
    "least_square_regression_pinv(xdata,tdata,2,3)"
   ]
  },
  {
   "cell_type": "code",
   "execution_count": 75,
   "id": "d96bd656",
   "metadata": {},
   "outputs": [
    {
     "name": "stdout",
     "output_type": "stream",
     "text": [
      "0 16.587737900489426 16.587737900489426\n",
      "1 16.52293645651267 16.52293645651267\n",
      "2 13.701670749509619 13.701670749509619\n",
      "3 9.621653058020577 9.621653058020577\n",
      "4 6.028516721615017 6.028516721615017\n",
      "5 4.572904351707733 4.572904351707734\n",
      "6 3.7071196460645552 3.7071196460645566\n",
      "7 3.6965636675491464 3.6965636675491473\n",
      "8 3.54520367743968 3.5452036774396567\n",
      "9 2.899039835473967 2.8990398354738853\n",
      "10 1.8954605589977278 1.8954605589978375\n",
      "11 0.8409543149918748 0.8409543149919022\n",
      "12 0.8071150790902576 0.8071150790902094\n",
      "13 0.8068880419001919 0.8068880414129301\n",
      "14 0.8033178199632679 0.8033178110777921\n",
      "15 0.8248003121061019 0.7405980763617717\n",
      "16 0.8250907337956848 0.7375790587983768\n",
      "17 0.8507584076280512 0.735681994409669\n",
      "18 0.910211603525427 0.6872684117405188\n",
      "19 0.9188773870625536 0.6645714427389986\n",
      "20 0.9292772161276615 0.6421368544180361\n",
      "21 1.6240008933961312 0.6285710448277302\n",
      "22 5.701066709397891 0.5511153389443093\n",
      "23 5.78372363806099 0.5317044614011006\n",
      "24 5.88628792389782 0.22834629057227357\n",
      "25 6.080015181856238 0.18994587776376598\n",
      "26 6.023544874296013 0.1835143052376945\n",
      "27 6.389002726456417 0.2056694011849239\n",
      "28 6.461867858095067 0.32100354258942454\n",
      "29 6.449853240770274 0.3158922816009355\n"
     ]
    }
   ],
   "source": [
    "for i in range(30):\n",
    "    m=i\n",
    "    n=30\n",
    "    lamb=0\n",
    "    wmlreg,rmsresreg,rmsres1=reg_least_square_regression_pinv(xdata,tdata,m,n,lamb)\n",
    "    wml,rmsres2=least_square_regression_pinv(xdata,tdata,m,n)\n",
    "    print(i,rmsres1,rmsres2)"
   ]
  },
  {
   "cell_type": "code",
   "execution_count": null,
   "id": "e9c5aa0a",
   "metadata": {},
   "outputs": [],
   "source": []
  }
 ],
 "metadata": {
  "kernelspec": {
   "display_name": "Python 3",
   "language": "python",
   "name": "python3"
  },
  "language_info": {
   "codemirror_mode": {
    "name": "ipython",
    "version": 3
   },
   "file_extension": ".py",
   "mimetype": "text/x-python",
   "name": "python",
   "nbconvert_exporter": "python",
   "pygments_lexer": "ipython3",
   "version": "3.8.8"
  }
 },
 "nbformat": 4,
 "nbformat_minor": 5
}
